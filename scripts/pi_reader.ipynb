{
 "cells": [
  {
   "cell_type": "code",
   "execution_count": 2,
   "id": "4445eb84-a7e9-451f-a2ad-c5445d618e33",
   "metadata": {},
   "outputs": [],
   "source": [
    "from perfins.PIFGfxReader import *\n",
    "reader = PIFGfxReader(r\"C:\\Users\\WanliZhu\\Downloads\\_packaged\\.pfm\")\n",
    "times = reader.getSpanTimes(\"3D0_0\")\n",
    "span = reader.getSpanValues(\"3D0_0\", timeStart=times[0], timeEnd=times[1])"
   ]
  },
  {
   "cell_type": "code",
   "execution_count": 3,
   "id": "baa826a6-a5ae-4898-8ce8-447799ee31db",
   "metadata": {},
   "outputs": [
    {
     "data": {
      "text/plain": [
       "[{'color': 'Signal_Fence_even',\n",
       "  'end': 8608,\n",
       "  'label': 'glFlush_0[0, 0]<br>[gputime=0.0086ms]',\n",
       "  'name': 'glFlush_0[0, 0]',\n",
       "  'start': 0,\n",
       "  'type': 'Buckets'},\n",
       " {'color': 'workload_clear',\n",
       "  'end': 59008,\n",
       "  'label': 'glClear[1, 1]<br>[gputime=0.0504ms]',\n",
       "  'name': 'glClear[1, 1]',\n",
       "  'start': 8608,\n",
       "  'type': 'Buckets'}]"
      ]
     },
     "execution_count": 3,
     "metadata": {},
     "output_type": "execute_result"
    }
   ],
   "source": [
    "span\n"
   ]
  },
  {
   "cell_type": "code",
   "execution_count": 4,
   "id": "756599fe-b42e-4fe3-8510-f9d1d2853302",
   "metadata": {},
   "outputs": [
    {
     "data": {
      "text/plain": [
       "8608"
      ]
     },
     "execution_count": 4,
     "metadata": {},
     "output_type": "execute_result"
    }
   ],
   "source": [
    "times[1]"
   ]
  },
  {
   "cell_type": "code",
   "execution_count": 10,
   "id": "6b4ec2e4-69b0-45b6-9546-0bcc320db20a",
   "metadata": {},
   "outputs": [
    {
     "data": {
      "text/plain": [
       "[{'color': 'Signal_Fence_even',\n",
       "  'end': 8608,\n",
       "  'label': 'glFlush_0[0, 0]<br>[gputime=0.0086ms]',\n",
       "  'name': 'glFlush_0[0, 0]',\n",
       "  'start': 0,\n",
       "  'type': 'Buckets'},\n",
       " {'color': 'workload_clear',\n",
       "  'end': 59008,\n",
       "  'label': 'glClear[1, 1]<br>[gputime=0.0504ms]',\n",
       "  'name': 'glClear[1, 1]',\n",
       "  'start': 8608,\n",
       "  'type': 'Buckets'},\n",
       " {'color': 'workload_copy',\n",
       "  'end': 122304,\n",
       "  'label': 'glBufferData glBufferSubData glBufferData glBufferSubData[2, 5]<br>[gputime=0.0633ms]',\n",
       "  'name': 'glBufferData glBufferSubData glBufferData glBufferSubData[2, 5]',\n",
       "  'start': 59008,\n",
       "  'type': 'Buckets'}]"
      ]
     },
     "execution_count": 10,
     "metadata": {},
     "output_type": "execute_result"
    }
   ],
   "source": [
    " reader.getSpanValues(\"3D0_0\", timeStart=times[0], timeEnd=times[3])"
   ]
  },
  {
   "cell_type": "code",
   "execution_count": 11,
   "id": "ccebe149-c6b9-417f-b406-01a9f20420a4",
   "metadata": {},
   "outputs": [
    {
     "data": {
      "text/plain": [
       "1557"
      ]
     },
     "execution_count": 11,
     "metadata": {},
     "output_type": "execute_result"
    }
   ],
   "source": [
    "len( reader.getSpanValues(\"3D0_0\"))"
   ]
  },
  {
   "cell_type": "code",
   "execution_count": 12,
   "id": "6e6f535e-cf46-4c7b-ad4d-a8a47240c0d7",
   "metadata": {},
   "outputs": [],
   "source": [
    "spans = reader.getSpanValues(\"3D0_0\")"
   ]
  },
  {
   "cell_type": "code",
   "execution_count": 15,
   "id": "fa98d4a8-1317-4a10-aedb-c24084b6540e",
   "metadata": {},
   "outputs": [
    {
     "data": {
      "text/plain": [
       "{'color': 'Signal_Fence_even',\n",
       " 'end': 8608,\n",
       " 'label': 'glFlush_0[0, 0]<br>[gputime=0.0086ms]',\n",
       " 'name': 'glFlush_0[0, 0]',\n",
       " 'start': 0,\n",
       " 'type': 'Buckets'}"
      ]
     },
     "execution_count": 15,
     "metadata": {},
     "output_type": "execute_result"
    }
   ],
   "source": [
    "spans[0]"
   ]
  },
  {
   "cell_type": "code",
   "execution_count": 17,
   "id": "5485a50c-baa2-4985-84db-41828d3f5516",
   "metadata": {},
   "outputs": [
    {
     "data": {
      "text/plain": [
       "{'color': 'workload_clear',\n",
       " 'end': 59008,\n",
       " 'label': 'glClear[1, 1]<br>[gputime=0.0504ms]',\n",
       " 'name': 'glClear[1, 1]',\n",
       " 'start': 8608,\n",
       " 'type': 'Buckets'}"
      ]
     },
     "execution_count": 17,
     "metadata": {},
     "output_type": "execute_result"
    }
   ],
   "source": [
    "spans[1]"
   ]
  },
  {
   "cell_type": "code",
   "execution_count": 18,
   "id": "de416384-c1bb-40e0-969f-2fd7cc51c48c",
   "metadata": {},
   "outputs": [
    {
     "data": {
      "text/plain": [
       "{'color': 'workload_copy',\n",
       " 'end': 122304,\n",
       " 'label': 'glBufferData glBufferSubData glBufferData glBufferSubData[2, 5]<br>[gputime=0.0633ms]',\n",
       " 'name': 'glBufferData glBufferSubData glBufferData glBufferSubData[2, 5]',\n",
       " 'start': 59008,\n",
       " 'type': 'Buckets'}"
      ]
     },
     "execution_count": 18,
     "metadata": {},
     "output_type": "execute_result"
    }
   ],
   "source": [
    "spans[2]"
   ]
  },
  {
   "cell_type": "code",
   "execution_count": 23,
   "id": "d8586132-cd2e-45b7-a50f-1f247314374b",
   "metadata": {},
   "outputs": [
    {
     "data": {
      "text/plain": [
       "[{'color': 'Frame_odd',\n",
       "  'end': 37590368,\n",
       "  'label': 'Frame_137<br>[gputime=37.5904ms]',\n",
       "  'name': 'Frame_137',\n",
       "  'start': 0,\n",
       "  'type': 'Buckets'},\n",
       " {'color': 'Frame_even',\n",
       "  'end': 75646592,\n",
       "  'label': 'Frame_138<br>[gputime=37.9258ms]',\n",
       "  'name': 'Frame_138',\n",
       "  'start': 37720768,\n",
       "  'type': 'Buckets'},\n",
       " {'color': 'Frame_odd',\n",
       "  'end': 114615872,\n",
       "  'label': 'Frame_139<br>[gputime=38.8360ms]',\n",
       "  'name': 'Frame_139',\n",
       "  'start': 75779872,\n",
       "  'type': 'Buckets'}]"
      ]
     },
     "execution_count": 23,
     "metadata": {},
     "output_type": "execute_result"
    }
   ],
   "source": [
    " reader.getSpanValues(\"frame_0\")"
   ]
  },
  {
   "cell_type": "code",
   "execution_count": 22,
   "id": "62ca27df-8bbe-48f2-91de-c6f3e1f0e253",
   "metadata": {},
   "outputs": [
    {
     "data": {
      "text/plain": [
       "['frame_0', '3D0_0']"
      ]
     },
     "execution_count": 22,
     "metadata": {},
     "output_type": "execute_result"
    }
   ],
   "source": [
    "reader.getSpanNames()"
   ]
  },
  {
   "cell_type": "code",
   "execution_count": null,
   "id": "6911dea8-662b-42ac-a22b-960cc1799b04",
   "metadata": {},
   "outputs": [],
   "source": []
  }
 ],
 "metadata": {
  "kernelspec": {
   "display_name": "Python 3 (ipykernel)",
   "language": "python",
   "name": "python3"
  },
  "language_info": {
   "codemirror_mode": {
    "name": "ipython",
    "version": 3
   },
   "file_extension": ".py",
   "mimetype": "text/x-python",
   "name": "python",
   "nbconvert_exporter": "python",
   "pygments_lexer": "ipython3",
   "version": "3.13.8"
  }
 },
 "nbformat": 4,
 "nbformat_minor": 5
}
