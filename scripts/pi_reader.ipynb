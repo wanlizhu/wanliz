{
 "cells": [
  {
   "cell_type": "code",
   "execution_count": 5,
   "id": "4445eb84-a7e9-451f-a2ad-c5445d618e33",
   "metadata": {},
   "outputs": [],
   "source": [
    "from perfins.PIFGfxReader import *\n",
    "\n",
    "reader_n1x = PIFGfxReader(r\"C:\\Users\\WanliZhu\\Downloads\\pi_n1x\\.pfm\")\n",
    "reader_emu = PIFGfxReader(r\"C:\\Users\\WanliZhu\\Downloads\\pi_emu\\.pfm\")\n",
    "frame_time_n1x = [-1, -1] # [start, end]\n",
    "frame_time_emu = [-1, -1] \n",
    "metrics_n1x = [\n",
    "    '06_MMU_limited',\n",
    "    '07_RASTER_limited',\n",
    "    '08_Rop_limited',\n",
    "    '10_GCC_limited',\n",
    "    '11_LTC_limited',\n",
    "    '12_LST_limited',\n",
    "    '13_TTU_limited',\n",
    "    '14_SM_limited',\n",
    "    '16_Launch_pipe_limited',\n",
    "    '17_HSHUB_limited',\n",
    "    'DRAM_limited',\n",
    "    'HSHUB_limited',\n",
    "    'LTC_limited',\n",
    "    'HSHUB___DRAM_GB_per_s', \n",
    "    'HSHUB___read_bytes',\n",
    "    'HSHUB___write_bytes',\n",
    "    'ltc_chi_cmd_out_ReadNoSnp_fbp{FBP}_ltc{LTC}_l2slice{L2SLICE}',\n",
    "    'ltc_chi_cmd_out_WriteNoSnpPartial_fbp{FBP}_ltc{LTC}_l2slice{L2SLICE}',\n",
    "    'ltc_chi_cmd_out_WriteNoSnpFull_fbp{FBP}_ltc{LTC}_l2slice{L2SLICE}'\n",
    "]\n",
    "metrics_emu = [\n",
    "    '15_FB_limited',\n",
    "    'FB___bytesPerClk'\n",
    "]"
   ]
  },
  {
   "cell_type": "code",
   "execution_count": null,
   "id": "dcd3ebcd",
   "metadata": {},
   "outputs": [],
   "source": [
    "index = 0\n",
    "for bucket in reader_n1x.getSpanValues(\"3D0_0\"):\n",
    "    for name in metrics_n1x:\n",
    "        start = int(bucket[\"start\"])\n",
    "        end = int(bucket[\"end\"])\n",
    "        data = reader_n1x.getMetricData([name], timeStart=start, timeEnd=end)\n",
    "        if not data:\n",
    "            print(f\"No data of {name}\")\n",
    "    index += 1"
   ]
  },
  {
   "cell_type": "code",
   "execution_count": 8,
   "id": "47de4999",
   "metadata": {},
   "outputs": [
    {
     "data": {
      "text/plain": [
       "['02_PCIe_limited',\n",
       " '03_SYSLTC_limited',\n",
       " '06_MMU_limited',\n",
       " '07_RASTER_limited',\n",
       " '08_Rop_limited',\n",
       " '10_GCC_limited',\n",
       " '11_LTC_limited',\n",
       " '12_LST_limited',\n",
       " '13_TTU_limited',\n",
       " '14_SM_limited',\n",
       " '15_FB_limited',\n",
       " '16_Launch_pipe_limited',\n",
       " 'FB_limited',\n",
       " 'LTC_limited',\n",
       " 'SYSLTC_limited']"
      ]
     },
     "execution_count": 8,
     "metadata": {},
     "output_type": "execute_result"
    }
   ],
   "source": [
    "[x for x in reader_emu.getMetricNames() if \"_limited\" in x]"
   ]
  },
  {
   "cell_type": "code",
   "execution_count": null,
   "id": "5ad89777",
   "metadata": {},
   "outputs": [],
   "source": []
  }
 ],
 "metadata": {
  "kernelspec": {
   "display_name": "Python 3",
   "language": "python",
   "name": "python3"
  },
  "language_info": {
   "codemirror_mode": {
    "name": "ipython",
    "version": 3
   },
   "file_extension": ".py",
   "mimetype": "text/x-python",
   "name": "python",
   "nbconvert_exporter": "python",
   "pygments_lexer": "ipython3",
   "version": "3.13.8"
  }
 },
 "nbformat": 4,
 "nbformat_minor": 5
}
