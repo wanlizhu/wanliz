{
 "cells": [
  {
   "cell_type": "code",
   "execution_count": 5,
   "id": "4445eb84-a7e9-451f-a2ad-c5445d618e33",
   "metadata": {},
   "outputs": [],
   "source": [
    "from perfins.PIFGfxReader import *\n",
    "\n",
    "reader_n1x = PIFGfxReader(r\"C:\\Users\\WanliZhu\\Downloads\\pi_n1x\\.pfm\")\n",
    "reader_emu = PIFGfxReader(r\"C:\\Users\\WanliZhu\\Downloads\\pi_emu\\.pfm\")\n",
    "frame_time_n1x = [-1, -1] # [start, end]\n",
    "frame_time_emu = [-1, -1] \n",
    "metrics_n1x = [\n",
    "    '06_MMU_limited',\n",
    "    '07_RASTER_limited',\n",
    "    '08_Rop_limited',\n",
    "    '10_GCC_limited',\n",
    "    '11_LTC_limited',\n",
    "    '12_LST_limited',\n",
    "    '13_TTU_limited',\n",
    "    '14_SM_limited',\n",
    "    '16_Launch_pipe_limited',\n",
    "    '17_HSHUB_limited',\n",
    "    'DRAM_limited',\n",
    "    'HSHUB_limited',\n",
    "    'LTC_limited',\n",
    "    'HSHUB___DRAM_GB_per_s', \n",
    "    'HSHUB___read_bytes',\n",
    "    'HSHUB___write_bytes',\n",
    "    'ltc_chi_cmd_out_ReadNoSnp_fbp{FBP}_ltc{LTC}_l2slice{L2SLICE}',\n",
    "    'ltc_chi_cmd_out_WriteNoSnpPartial_fbp{FBP}_ltc{LTC}_l2slice{L2SLICE}',\n",
    "    'ltc_chi_cmd_out_WriteNoSnpFull_fbp{FBP}_ltc{LTC}_l2slice{L2SLICE}'\n",
    "]\n",
    "metrics_emu = [\n",
    "    '15_FB_limited',\n",
    "    'FB___bytesPerClk'\n",
    "]"
   ]
  },
  {
   "cell_type": "code",
   "execution_count": 9,
   "id": "5ad89777",
   "metadata": {},
   "outputs": [
    {
     "data": {
      "text/plain": [
       "{'DRAM_limited': 'global_t'}"
      ]
     },
     "execution_count": 9,
     "metadata": {},
     "output_type": "execute_result"
    }
   ],
   "source": [
    "reader_n1x.getClockDomainNameForMetricNames(['DRAM_limited'])"
   ]
  },
  {
   "cell_type": "code",
   "execution_count": 11,
   "id": "f11a237a",
   "metadata": {},
   "outputs": [
    {
     "data": {
      "text/plain": [
       "['DRAM_limited', 'HSHUB___DRAM_GB_per_s', 'numer_HSHUB___DRAM_GB_per_s']"
      ]
     },
     "execution_count": 11,
     "metadata": {},
     "output_type": "execute_result"
    }
   ],
   "source": [
    "[x for x in reader_n1x.getMetricNames() if \"DRAM\" in x]"
   ]
  },
  {
   "cell_type": "code",
   "execution_count": null,
   "id": "89b52d7d",
   "metadata": {},
   "outputs": [],
   "source": []
  }
 ],
 "metadata": {
  "kernelspec": {
   "display_name": "Python 3",
   "language": "python",
   "name": "python3"
  },
  "language_info": {
   "codemirror_mode": {
    "name": "ipython",
    "version": 3
   },
   "file_extension": ".py",
   "mimetype": "text/x-python",
   "name": "python",
   "nbconvert_exporter": "python",
   "pygments_lexer": "ipython3",
   "version": "3.13.9"
  }
 },
 "nbformat": 4,
 "nbformat_minor": 5
}
